{
 "cells": [
  {
   "cell_type": "code",
   "execution_count": 1,
   "id": "b7f772ba-a326-4df3-b5fd-6a9adf166546",
   "metadata": {},
   "outputs": [],
   "source": [
    "import pandas as pd\n",
    "import numpy as np\n",
    "from sklearn.preprocessing import MinMaxScaler"
   ]
  },
  {
   "cell_type": "code",
   "execution_count": 2,
   "id": "1e3b71c6-9869-47f1-b18e-56a8a54b7988",
   "metadata": {},
   "outputs": [],
   "source": [
    "data = pd.read_csv('echocardiogram.csv')\n",
    "\n",
    "numeric_cols = data.select_dtypes(include=[np.number])\n",
    "non_numeric_cols = data.select_dtypes(exclude=[np.number])"
   ]
  },
  {
   "cell_type": "code",
   "execution_count": 3,
   "id": "6fdb0487-ff29-4186-844c-daf995d34f5e",
   "metadata": {},
   "outputs": [],
   "source": [
    "scaler = MinMaxScaler()\n",
    "scaled_numeric_data = scaler.fit_transform(numeric_cols)\n"
   ]
  },
  {
   "cell_type": "code",
   "execution_count": 4,
   "id": "d336515a-3e95-471a-a2fc-0487aefb3321",
   "metadata": {},
   "outputs": [],
   "source": [
    "scaled_numeric_df = pd.DataFrame(scaled_numeric_data, columns=numeric_cols.columns)\n"
   ]
  },
  {
   "cell_type": "code",
   "execution_count": 5,
   "id": "1889cff0-90ae-401f-8e57-5495e5f4f98c",
   "metadata": {},
   "outputs": [],
   "source": [
    "scaled_data = pd.concat([scaled_numeric_df, non_numeric_cols.reset_index(drop=True)], axis=1)\n"
   ]
  },
  {
   "cell_type": "code",
   "execution_count": 6,
   "id": "8cd9aa18-d00b-452e-abde-a4ae5f423fe7",
   "metadata": {},
   "outputs": [
    {
     "name": "stdout",
     "output_type": "stream",
     "text": [
      "(133, 13)\n",
      "\n",
      "************************************************************\n"
     ]
    },
    {
     "data": {
      "text/html": [
       "<div>\n",
       "<style scoped>\n",
       "    .dataframe tbody tr th:only-of-type {\n",
       "        vertical-align: middle;\n",
       "    }\n",
       "\n",
       "    .dataframe tbody tr th {\n",
       "        vertical-align: top;\n",
       "    }\n",
       "\n",
       "    .dataframe thead th {\n",
       "        text-align: right;\n",
       "    }\n",
       "</style>\n",
       "<table border=\"1\" class=\"dataframe\">\n",
       "  <thead>\n",
       "    <tr style=\"text-align: right;\">\n",
       "      <th></th>\n",
       "      <th>survival</th>\n",
       "      <th>alive</th>\n",
       "      <th>age</th>\n",
       "      <th>pericardialeffusion</th>\n",
       "      <th>fractionalshortening</th>\n",
       "      <th>epss</th>\n",
       "      <th>lvdd</th>\n",
       "      <th>wallmotion-score</th>\n",
       "      <th>wallmotion-index</th>\n",
       "      <th>mult</th>\n",
       "      <th>aliveat1</th>\n",
       "      <th>name</th>\n",
       "      <th>group</th>\n",
       "    </tr>\n",
       "  </thead>\n",
       "  <tbody>\n",
       "    <tr>\n",
       "      <th>0</th>\n",
       "      <td>0.192557</td>\n",
       "      <td>0.0</td>\n",
       "      <td>0.705882</td>\n",
       "      <td>0.0</td>\n",
       "      <td>0.416667</td>\n",
       "      <td>0.22500</td>\n",
       "      <td>0.511211</td>\n",
       "      <td>0.324324</td>\n",
       "      <td>0.000</td>\n",
       "      <td>0.462366</td>\n",
       "      <td>0.0</td>\n",
       "      <td>name</td>\n",
       "      <td>1</td>\n",
       "    </tr>\n",
       "    <tr>\n",
       "      <th>1</th>\n",
       "      <td>0.332982</td>\n",
       "      <td>0.0</td>\n",
       "      <td>0.725490</td>\n",
       "      <td>0.0</td>\n",
       "      <td>0.616667</td>\n",
       "      <td>0.15000</td>\n",
       "      <td>0.399103</td>\n",
       "      <td>0.324324</td>\n",
       "      <td>0.350</td>\n",
       "      <td>0.240860</td>\n",
       "      <td>0.0</td>\n",
       "      <td>name</td>\n",
       "      <td>1</td>\n",
       "    </tr>\n",
       "    <tr>\n",
       "      <th>2</th>\n",
       "      <td>0.280323</td>\n",
       "      <td>0.0</td>\n",
       "      <td>0.392157</td>\n",
       "      <td>0.0</td>\n",
       "      <td>0.416667</td>\n",
       "      <td>0.10000</td>\n",
       "      <td>0.246637</td>\n",
       "      <td>0.324324</td>\n",
       "      <td>0.000</td>\n",
       "      <td>0.462366</td>\n",
       "      <td>0.0</td>\n",
       "      <td>name</td>\n",
       "      <td>1</td>\n",
       "    </tr>\n",
       "    <tr>\n",
       "      <th>3</th>\n",
       "      <td>1.000000</td>\n",
       "      <td>0.0</td>\n",
       "      <td>0.490196</td>\n",
       "      <td>0.0</td>\n",
       "      <td>0.405000</td>\n",
       "      <td>0.30155</td>\n",
       "      <td>0.511883</td>\n",
       "      <td>0.378378</td>\n",
       "      <td>0.225</td>\n",
       "      <td>0.348387</td>\n",
       "      <td>0.0</td>\n",
       "      <td>name</td>\n",
       "      <td>1</td>\n",
       "    </tr>\n",
       "    <tr>\n",
       "      <th>4</th>\n",
       "      <td>0.332982</td>\n",
       "      <td>1.0</td>\n",
       "      <td>0.431373</td>\n",
       "      <td>0.0</td>\n",
       "      <td>0.250000</td>\n",
       "      <td>0.55000</td>\n",
       "      <td>0.769058</td>\n",
       "      <td>0.432432</td>\n",
       "      <td>0.625</td>\n",
       "      <td>0.231720</td>\n",
       "      <td>0.0</td>\n",
       "      <td>name</td>\n",
       "      <td>1</td>\n",
       "    </tr>\n",
       "  </tbody>\n",
       "</table>\n",
       "</div>"
      ],
      "text/plain": [
       "   survival  alive       age  pericardialeffusion  fractionalshortening  \\\n",
       "0  0.192557    0.0  0.705882                  0.0              0.416667   \n",
       "1  0.332982    0.0  0.725490                  0.0              0.616667   \n",
       "2  0.280323    0.0  0.392157                  0.0              0.416667   \n",
       "3  1.000000    0.0  0.490196                  0.0              0.405000   \n",
       "4  0.332982    1.0  0.431373                  0.0              0.250000   \n",
       "\n",
       "      epss      lvdd  wallmotion-score  wallmotion-index      mult  aliveat1  \\\n",
       "0  0.22500  0.511211          0.324324             0.000  0.462366       0.0   \n",
       "1  0.15000  0.399103          0.324324             0.350  0.240860       0.0   \n",
       "2  0.10000  0.246637          0.324324             0.000  0.462366       0.0   \n",
       "3  0.30155  0.511883          0.378378             0.225  0.348387       0.0   \n",
       "4  0.55000  0.769058          0.432432             0.625  0.231720       0.0   \n",
       "\n",
       "   name group  \n",
       "0  name     1  \n",
       "1  name     1  \n",
       "2  name     1  \n",
       "3  name     1  \n",
       "4  name     1  "
      ]
     },
     "execution_count": 6,
     "metadata": {},
     "output_type": "execute_result"
    }
   ],
   "source": [
    "print(scaled_data.shape)\n",
    "print()\n",
    "print('*' * 60)\n",
    "scaled_data.head()"
   ]
  },
  {
   "cell_type": "code",
   "execution_count": null,
   "id": "c0f6f15b-92f7-4d25-a0de-565d1df01b68",
   "metadata": {},
   "outputs": [],
   "source": []
  }
 ],
 "metadata": {
  "kernelspec": {
   "display_name": "Python 3 (ipykernel)",
   "language": "python",
   "name": "python3"
  },
  "language_info": {
   "codemirror_mode": {
    "name": "ipython",
    "version": 3
   },
   "file_extension": ".py",
   "mimetype": "text/x-python",
   "name": "python",
   "nbconvert_exporter": "python",
   "pygments_lexer": "ipython3",
   "version": "3.12.7"
  }
 },
 "nbformat": 4,
 "nbformat_minor": 5
}
