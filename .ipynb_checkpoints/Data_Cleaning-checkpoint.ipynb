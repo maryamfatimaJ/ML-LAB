{
 "cells": [
  {
   "cell_type": "code",
   "execution_count": null,
   "id": "c097596b-f116-4cb3-9f1b-a37dafe7750c",
   "metadata": {},
   "outputs": [
    {
     "data": {
      "text/html": [
       "<div>\n",
       "<style scoped>\n",
       "    .dataframe tbody tr th:only-of-type {\n",
       "        vertical-align: middle;\n",
       "    }\n",
       "\n",
       "    .dataframe tbody tr th {\n",
       "        vertical-align: top;\n",
       "    }\n",
       "\n",
       "    .dataframe thead th {\n",
       "        text-align: right;\n",
       "    }\n",
       "</style>\n",
       "<table border=\"1\" class=\"dataframe\">\n",
       "  <thead>\n",
       "    <tr style=\"text-align: right;\">\n",
       "      <th></th>\n",
       "      <th>survival</th>\n",
       "      <th>alive</th>\n",
       "      <th>age</th>\n",
       "      <th>pericardialeffusion</th>\n",
       "      <th>fractionalshortening</th>\n",
       "      <th>epss</th>\n",
       "      <th>lvdd</th>\n",
       "      <th>wallmotion-score</th>\n",
       "      <th>wallmotion-index</th>\n",
       "      <th>mult</th>\n",
       "      <th>name</th>\n",
       "      <th>group</th>\n",
       "      <th>aliveat1</th>\n",
       "    </tr>\n",
       "  </thead>\n",
       "  <tbody>\n",
       "    <tr>\n",
       "      <th>0</th>\n",
       "      <td>11.0</td>\n",
       "      <td>0.0</td>\n",
       "      <td>71.0</td>\n",
       "      <td>0.0</td>\n",
       "      <td>0.260</td>\n",
       "      <td>9.000</td>\n",
       "      <td>4.600</td>\n",
       "      <td>14.0</td>\n",
       "      <td>1.00</td>\n",
       "      <td>1.000</td>\n",
       "      <td>name</td>\n",
       "      <td>1</td>\n",
       "      <td>0.0</td>\n",
       "    </tr>\n",
       "    <tr>\n",
       "      <th>1</th>\n",
       "      <td>19.0</td>\n",
       "      <td>0.0</td>\n",
       "      <td>72.0</td>\n",
       "      <td>0.0</td>\n",
       "      <td>0.380</td>\n",
       "      <td>6.000</td>\n",
       "      <td>4.100</td>\n",
       "      <td>14.0</td>\n",
       "      <td>1.70</td>\n",
       "      <td>0.588</td>\n",
       "      <td>name</td>\n",
       "      <td>1</td>\n",
       "      <td>0.0</td>\n",
       "    </tr>\n",
       "    <tr>\n",
       "      <th>2</th>\n",
       "      <td>16.0</td>\n",
       "      <td>0.0</td>\n",
       "      <td>55.0</td>\n",
       "      <td>0.0</td>\n",
       "      <td>0.260</td>\n",
       "      <td>4.000</td>\n",
       "      <td>3.420</td>\n",
       "      <td>14.0</td>\n",
       "      <td>1.00</td>\n",
       "      <td>1.000</td>\n",
       "      <td>name</td>\n",
       "      <td>1</td>\n",
       "      <td>0.0</td>\n",
       "    </tr>\n",
       "    <tr>\n",
       "      <th>3</th>\n",
       "      <td>57.0</td>\n",
       "      <td>0.0</td>\n",
       "      <td>60.0</td>\n",
       "      <td>0.0</td>\n",
       "      <td>0.253</td>\n",
       "      <td>12.062</td>\n",
       "      <td>4.603</td>\n",
       "      <td>16.0</td>\n",
       "      <td>1.45</td>\n",
       "      <td>0.788</td>\n",
       "      <td>name</td>\n",
       "      <td>1</td>\n",
       "      <td>0.0</td>\n",
       "    </tr>\n",
       "    <tr>\n",
       "      <th>4</th>\n",
       "      <td>19.0</td>\n",
       "      <td>1.0</td>\n",
       "      <td>57.0</td>\n",
       "      <td>0.0</td>\n",
       "      <td>0.160</td>\n",
       "      <td>22.000</td>\n",
       "      <td>5.750</td>\n",
       "      <td>18.0</td>\n",
       "      <td>2.25</td>\n",
       "      <td>0.571</td>\n",
       "      <td>name</td>\n",
       "      <td>1</td>\n",
       "      <td>0.0</td>\n",
       "    </tr>\n",
       "  </tbody>\n",
       "</table>\n",
       "</div>"
      ],
      "text/plain": [
       "   survival  alive   age  pericardialeffusion  fractionalshortening    epss  \\\n",
       "0      11.0    0.0  71.0                  0.0                 0.260   9.000   \n",
       "1      19.0    0.0  72.0                  0.0                 0.380   6.000   \n",
       "2      16.0    0.0  55.0                  0.0                 0.260   4.000   \n",
       "3      57.0    0.0  60.0                  0.0                 0.253  12.062   \n",
       "4      19.0    1.0  57.0                  0.0                 0.160  22.000   \n",
       "\n",
       "    lvdd  wallmotion-score  wallmotion-index   mult  name group  aliveat1  \n",
       "0  4.600              14.0              1.00  1.000  name     1       0.0  \n",
       "1  4.100              14.0              1.70  0.588  name     1       0.0  \n",
       "2  3.420              14.0              1.00  1.000  name     1       0.0  \n",
       "3  4.603              16.0              1.45  0.788  name     1       0.0  \n",
       "4  5.750              18.0              2.25  0.571  name     1       0.0  "
      ]
     },
     "execution_count": 4,
     "metadata": {},
     "output_type": "execute_result"
    }
   ],
   "source": [
    "data = pd.read_csv('echocardiogram.csv')\n",
    "\n",
    "data.head()"
   ]
  },
  {
   "cell_type": "code",
   "execution_count": null,
   "id": "714355e9-4b1d-4332-8172-65133a3a6335",
   "metadata": {},
   "outputs": [
    {
     "name": "stdout",
     "output_type": "stream",
     "text": [
      "survival                 0\n",
      "alive                    0\n",
      "age                      0\n",
      "pericardialeffusion      0\n",
      "fractionalshortening     0\n",
      "epss                     0\n",
      "lvdd                     0\n",
      "wallmotion-score         0\n",
      "wallmotion-index         0\n",
      "mult                     0\n",
      "aliveat1                 0\n",
      "name                     2\n",
      "group                   23\n",
      "dtype: int64\n"
     ]
    }
   ],
   "source": [
    "#Handling Missing Values\n",
    "# Imputation: Filling missing values with mean.\n",
    "\n",
    "import pandas as pd\n",
    "import numpy as np\n",
    "\n",
    "# Separate numeric and non-numeric columns\n",
    "numeric_cols = data.select_dtypes(include=[np.number])\n",
    "non_numeric_cols = data.select_dtypes(exclude=[np.number])\n",
    "\n",
    "# Fill missing values in numeric columns with the mean\n",
    "numeric_cols.fillna(numeric_cols.mean(), inplace=True)   # Numerical features\n",
    "#non_numeric_cols.fillna(non_numeric_cols.mode(), inplace=True) # Categorical features\n",
    "\n",
    "\n",
    "# Combine back with non-numeric columns\n",
    "data = pd.concat([numeric_cols, non_numeric_cols], axis=1)\n",
    "\n",
    "# Check for any remaining missing values\n",
    "missing_values = data.isnull().sum()\n",
    "print(missing_values)\n"
   ]
  },
  {
   "cell_type": "code",
   "execution_count": 6,
   "id": "8262fedf-898c-4c2c-8bd2-d86ae6356fd9",
   "metadata": {},
   "outputs": [
    {
     "data": {
      "text/plain": [
       "(133, 13)"
      ]
     },
     "execution_count": 6,
     "metadata": {},
     "output_type": "execute_result"
    }
   ],
   "source": [
    "#Removal: Deleting rows with missing values.\n",
    "\n",
    "data = pd.read_csv('echocardiogram.csv')\n",
    "data.isnull().sum()\n",
    "\n",
    "data.shape"
   ]
  },
  {
   "cell_type": "code",
   "execution_count": 7,
   "id": "6d411265-adea-4e8f-8459-f9e8a12d7535",
   "metadata": {},
   "outputs": [
    {
     "name": "stdout",
     "output_type": "stream",
     "text": [
      "survival                0\n",
      "alive                   0\n",
      "age                     0\n",
      "pericardialeffusion     0\n",
      "fractionalshortening    0\n",
      "epss                    0\n",
      "lvdd                    0\n",
      "wallmotion-score        0\n",
      "wallmotion-index        0\n",
      "mult                    0\n",
      "name                    0\n",
      "group                   0\n",
      "aliveat1                0\n",
      "dtype: int64\n"
     ]
    }
   ],
   "source": [
    "# Drop rows with any missing values\n",
    "data.dropna(inplace=True)\n",
    "\n",
    "# Check for any remaining missing values\n",
    "missing_values = data.isnull().sum()\n",
    "print(missing_values)\n"
   ]
  },
  {
   "cell_type": "code",
   "execution_count": 8,
   "id": "9d46d05e-b09d-426a-b374-6fa2a28a41f2",
   "metadata": {},
   "outputs": [
    {
     "data": {
      "text/plain": [
       "(61, 13)"
      ]
     },
     "execution_count": 8,
     "metadata": {},
     "output_type": "execute_result"
    }
   ],
   "source": [
    "data.shape\n"
   ]
  },
  {
   "cell_type": "code",
   "execution_count": 9,
   "id": "ed41b8ec-7b0e-491b-a70c-b7be3b96d5be",
   "metadata": {},
   "outputs": [
    {
     "data": {
      "text/plain": [
       "(133, 13)"
      ]
     },
     "execution_count": 9,
     "metadata": {},
     "output_type": "execute_result"
    }
   ],
   "source": [
    "data = pd.read_csv('echocardiogram.csv')\n",
    "data.shape"
   ]
  },
  {
   "cell_type": "code",
   "execution_count": 10,
   "id": "dd52e5d5-6a9b-4522-b836-8794645eca6d",
   "metadata": {},
   "outputs": [
    {
     "data": {
      "text/plain": [
       "(133, 13)"
      ]
     },
     "execution_count": 10,
     "metadata": {},
     "output_type": "execute_result"
    }
   ],
   "source": [
    "data.drop_duplicates(inplace=True)\n",
    "data.shape"
   ]
  },
  {
   "cell_type": "code",
   "execution_count": null,
   "id": "ae539bee-3960-4977-abd1-f719fe76ff0d",
   "metadata": {},
   "outputs": [],
   "source": []
  }
 ],
 "metadata": {
  "kernelspec": {
   "display_name": "Python 3 (ipykernel)",
   "language": "python",
   "name": "python3"
  },
  "language_info": {
   "codemirror_mode": {
    "name": "ipython",
    "version": 3
   },
   "file_extension": ".py",
   "mimetype": "text/x-python",
   "name": "python",
   "nbconvert_exporter": "python",
   "pygments_lexer": "ipython3",
   "version": "3.12.7"
  }
 },
 "nbformat": 4,
 "nbformat_minor": 5
}
